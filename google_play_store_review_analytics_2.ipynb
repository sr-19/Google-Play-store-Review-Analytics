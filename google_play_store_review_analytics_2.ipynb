{
 "cells": [
  {
   "cell_type": "code",
   "execution_count": 1,
   "metadata": {
    "id": "_27l3rPWeu8p"
   },
   "outputs": [],
   "source": [
    "import pandas as pd\n",
    "import numpy as np\n",
    "import plotly.express as px\n",
    "import plotly.io as pio\n",
    "import plotly.graph_objects as go\n",
    "from sklearn.model_selection import train_test_split\n",
    "from sklearn.ensemble import RandomForestRegressor\n",
    "from sklearn.metrics import mean_squared_error, r2_score\n",
    "from nltk.sentiment.vader import SentimentIntensityAnalyzer\n",
    "import nltk\n",
    "import nltk\n",
    "import webbrowser\n",
    "import os\n"
   ]
  },
  {
   "cell_type": "code",
   "execution_count": 2,
   "metadata": {
    "colab": {
     "base_uri": "https://localhost:8080/"
    },
    "id": "RBcPbTAye4UR",
    "outputId": "9ad764b7-0af7-468b-e12a-73796687d25e"
   },
   "outputs": [
    {
     "name": "stderr",
     "output_type": "stream",
     "text": [
      "[nltk_data] Downloading package vader_lexicon to\n",
      "[nltk_data]     C:\\Users\\Administrator\\AppData\\Roaming\\nltk_data...\n",
      "[nltk_data]   Package vader_lexicon is already up-to-date!\n"
     ]
    },
    {
     "data": {
      "text/plain": [
       "True"
      ]
     },
     "execution_count": 2,
     "metadata": {},
     "output_type": "execute_result"
    }
   ],
   "source": [
    "nltk.download('vader_lexicon')"
   ]
  },
  {
   "cell_type": "markdown",
   "metadata": {
    "id": "XmR8imbqfKDg"
   },
   "source": [
    "**Loading Data**"
   ]
  },
  {
   "cell_type": "code",
   "execution_count": 3,
   "metadata": {
    "id": "QBSaTh5He4dH"
   },
   "outputs": [],
   "source": [
    "apps_df=pd.read_csv('Play Store Data.csv')\n",
    "reviews_df=pd.read_csv('User Reviews.csv')"
   ]
  },
  {
   "cell_type": "code",
   "execution_count": 4,
   "metadata": {
    "colab": {
     "base_uri": "https://localhost:8080/",
     "height": 573
    },
    "id": "o0igR6hwe4gR",
    "outputId": "2d4e0f3f-4026-4dbd-e913-585959495a4c"
   },
   "outputs": [
    {
     "data": {
      "text/html": [
       "<div>\n",
       "<style scoped>\n",
       "    .dataframe tbody tr th:only-of-type {\n",
       "        vertical-align: middle;\n",
       "    }\n",
       "\n",
       "    .dataframe tbody tr th {\n",
       "        vertical-align: top;\n",
       "    }\n",
       "\n",
       "    .dataframe thead th {\n",
       "        text-align: right;\n",
       "    }\n",
       "</style>\n",
       "<table border=\"1\" class=\"dataframe\">\n",
       "  <thead>\n",
       "    <tr style=\"text-align: right;\">\n",
       "      <th></th>\n",
       "      <th>App</th>\n",
       "      <th>Category</th>\n",
       "      <th>Rating</th>\n",
       "      <th>Reviews</th>\n",
       "      <th>Size</th>\n",
       "      <th>Installs</th>\n",
       "      <th>Type</th>\n",
       "      <th>Price</th>\n",
       "      <th>Content Rating</th>\n",
       "      <th>Genres</th>\n",
       "      <th>Last Updated</th>\n",
       "      <th>Current Ver</th>\n",
       "      <th>Android Ver</th>\n",
       "    </tr>\n",
       "  </thead>\n",
       "  <tbody>\n",
       "    <tr>\n",
       "      <th>0</th>\n",
       "      <td>Photo Editor &amp; Candy Camera &amp; Grid &amp; ScrapBook</td>\n",
       "      <td>ART_AND_DESIGN</td>\n",
       "      <td>4.1</td>\n",
       "      <td>159</td>\n",
       "      <td>19M</td>\n",
       "      <td>10,000+</td>\n",
       "      <td>Free</td>\n",
       "      <td>0</td>\n",
       "      <td>Everyone</td>\n",
       "      <td>Art &amp; Design</td>\n",
       "      <td>January 7, 2018</td>\n",
       "      <td>1.0.0</td>\n",
       "      <td>4.0.3 and up</td>\n",
       "    </tr>\n",
       "    <tr>\n",
       "      <th>1</th>\n",
       "      <td>Coloring book moana</td>\n",
       "      <td>ART_AND_DESIGN</td>\n",
       "      <td>3.9</td>\n",
       "      <td>967</td>\n",
       "      <td>14M</td>\n",
       "      <td>500,000+</td>\n",
       "      <td>Free</td>\n",
       "      <td>0</td>\n",
       "      <td>Everyone</td>\n",
       "      <td>Art &amp; Design;Pretend Play</td>\n",
       "      <td>January 15, 2018</td>\n",
       "      <td>2.0.0</td>\n",
       "      <td>4.0.3 and up</td>\n",
       "    </tr>\n",
       "    <tr>\n",
       "      <th>2</th>\n",
       "      <td>U Launcher Lite – FREE Live Cool Themes, Hide ...</td>\n",
       "      <td>ART_AND_DESIGN</td>\n",
       "      <td>4.7</td>\n",
       "      <td>87510</td>\n",
       "      <td>8.7M</td>\n",
       "      <td>5,000,000+</td>\n",
       "      <td>Free</td>\n",
       "      <td>0</td>\n",
       "      <td>Everyone</td>\n",
       "      <td>Art &amp; Design</td>\n",
       "      <td>August 1, 2018</td>\n",
       "      <td>1.2.4</td>\n",
       "      <td>4.0.3 and up</td>\n",
       "    </tr>\n",
       "    <tr>\n",
       "      <th>3</th>\n",
       "      <td>Sketch - Draw &amp; Paint</td>\n",
       "      <td>ART_AND_DESIGN</td>\n",
       "      <td>4.5</td>\n",
       "      <td>215644</td>\n",
       "      <td>25M</td>\n",
       "      <td>50,000,000+</td>\n",
       "      <td>Free</td>\n",
       "      <td>0</td>\n",
       "      <td>Teen</td>\n",
       "      <td>Art &amp; Design</td>\n",
       "      <td>June 8, 2018</td>\n",
       "      <td>Varies with device</td>\n",
       "      <td>4.2 and up</td>\n",
       "    </tr>\n",
       "    <tr>\n",
       "      <th>4</th>\n",
       "      <td>Pixel Draw - Number Art Coloring Book</td>\n",
       "      <td>ART_AND_DESIGN</td>\n",
       "      <td>4.3</td>\n",
       "      <td>967</td>\n",
       "      <td>2.8M</td>\n",
       "      <td>100,000+</td>\n",
       "      <td>Free</td>\n",
       "      <td>0</td>\n",
       "      <td>Everyone</td>\n",
       "      <td>Art &amp; Design;Creativity</td>\n",
       "      <td>June 20, 2018</td>\n",
       "      <td>1.1</td>\n",
       "      <td>4.4 and up</td>\n",
       "    </tr>\n",
       "  </tbody>\n",
       "</table>\n",
       "</div>"
      ],
      "text/plain": [
       "                                                 App        Category  Rating  \\\n",
       "0     Photo Editor & Candy Camera & Grid & ScrapBook  ART_AND_DESIGN     4.1   \n",
       "1                                Coloring book moana  ART_AND_DESIGN     3.9   \n",
       "2  U Launcher Lite – FREE Live Cool Themes, Hide ...  ART_AND_DESIGN     4.7   \n",
       "3                              Sketch - Draw & Paint  ART_AND_DESIGN     4.5   \n",
       "4              Pixel Draw - Number Art Coloring Book  ART_AND_DESIGN     4.3   \n",
       "\n",
       "  Reviews  Size     Installs  Type Price Content Rating  \\\n",
       "0     159   19M      10,000+  Free     0       Everyone   \n",
       "1     967   14M     500,000+  Free     0       Everyone   \n",
       "2   87510  8.7M   5,000,000+  Free     0       Everyone   \n",
       "3  215644   25M  50,000,000+  Free     0           Teen   \n",
       "4     967  2.8M     100,000+  Free     0       Everyone   \n",
       "\n",
       "                      Genres      Last Updated         Current Ver  \\\n",
       "0               Art & Design   January 7, 2018               1.0.0   \n",
       "1  Art & Design;Pretend Play  January 15, 2018               2.0.0   \n",
       "2               Art & Design    August 1, 2018               1.2.4   \n",
       "3               Art & Design      June 8, 2018  Varies with device   \n",
       "4    Art & Design;Creativity     June 20, 2018                 1.1   \n",
       "\n",
       "    Android Ver  \n",
       "0  4.0.3 and up  \n",
       "1  4.0.3 and up  \n",
       "2  4.0.3 and up  \n",
       "3    4.2 and up  \n",
       "4    4.4 and up  "
      ]
     },
     "execution_count": 4,
     "metadata": {},
     "output_type": "execute_result"
    }
   ],
   "source": [
    "apps_df.head()"
   ]
  },
  {
   "cell_type": "code",
   "execution_count": 5,
   "metadata": {
    "colab": {
     "base_uri": "https://localhost:8080/",
     "height": 573
    },
    "id": "lXijJNrne4jM",
    "outputId": "48ca98c0-ea5e-47e1-b38d-5f64d088781c"
   },
   "outputs": [
    {
     "data": {
      "text/html": [
       "<div>\n",
       "<style scoped>\n",
       "    .dataframe tbody tr th:only-of-type {\n",
       "        vertical-align: middle;\n",
       "    }\n",
       "\n",
       "    .dataframe tbody tr th {\n",
       "        vertical-align: top;\n",
       "    }\n",
       "\n",
       "    .dataframe thead th {\n",
       "        text-align: right;\n",
       "    }\n",
       "</style>\n",
       "<table border=\"1\" class=\"dataframe\">\n",
       "  <thead>\n",
       "    <tr style=\"text-align: right;\">\n",
       "      <th></th>\n",
       "      <th>App</th>\n",
       "      <th>Translated_Review</th>\n",
       "      <th>Sentiment</th>\n",
       "      <th>Sentiment_Polarity</th>\n",
       "      <th>Sentiment_Subjectivity</th>\n",
       "    </tr>\n",
       "  </thead>\n",
       "  <tbody>\n",
       "    <tr>\n",
       "      <th>0</th>\n",
       "      <td>10 Best Foods for You</td>\n",
       "      <td>I like eat delicious food. That's I'm cooking ...</td>\n",
       "      <td>Positive</td>\n",
       "      <td>1.00</td>\n",
       "      <td>0.533333</td>\n",
       "    </tr>\n",
       "    <tr>\n",
       "      <th>1</th>\n",
       "      <td>10 Best Foods for You</td>\n",
       "      <td>This help eating healthy exercise regular basis</td>\n",
       "      <td>Positive</td>\n",
       "      <td>0.25</td>\n",
       "      <td>0.288462</td>\n",
       "    </tr>\n",
       "    <tr>\n",
       "      <th>2</th>\n",
       "      <td>10 Best Foods for You</td>\n",
       "      <td>NaN</td>\n",
       "      <td>NaN</td>\n",
       "      <td>NaN</td>\n",
       "      <td>NaN</td>\n",
       "    </tr>\n",
       "    <tr>\n",
       "      <th>3</th>\n",
       "      <td>10 Best Foods for You</td>\n",
       "      <td>Works great especially going grocery store</td>\n",
       "      <td>Positive</td>\n",
       "      <td>0.40</td>\n",
       "      <td>0.875000</td>\n",
       "    </tr>\n",
       "    <tr>\n",
       "      <th>4</th>\n",
       "      <td>10 Best Foods for You</td>\n",
       "      <td>Best idea us</td>\n",
       "      <td>Positive</td>\n",
       "      <td>1.00</td>\n",
       "      <td>0.300000</td>\n",
       "    </tr>\n",
       "  </tbody>\n",
       "</table>\n",
       "</div>"
      ],
      "text/plain": [
       "                     App                                  Translated_Review  \\\n",
       "0  10 Best Foods for You  I like eat delicious food. That's I'm cooking ...   \n",
       "1  10 Best Foods for You    This help eating healthy exercise regular basis   \n",
       "2  10 Best Foods for You                                                NaN   \n",
       "3  10 Best Foods for You         Works great especially going grocery store   \n",
       "4  10 Best Foods for You                                       Best idea us   \n",
       "\n",
       "  Sentiment  Sentiment_Polarity  Sentiment_Subjectivity  \n",
       "0  Positive                1.00                0.533333  \n",
       "1  Positive                0.25                0.288462  \n",
       "2       NaN                 NaN                     NaN  \n",
       "3  Positive                0.40                0.875000  \n",
       "4  Positive                1.00                0.300000  "
      ]
     },
     "execution_count": 5,
     "metadata": {},
     "output_type": "execute_result"
    }
   ],
   "source": [
    "reviews_df.head()"
   ]
  },
  {
   "cell_type": "markdown",
   "metadata": {
    "id": "qyI6_lQCfG5r"
   },
   "source": [
    "**Data Cleaning**"
   ]
  },
  {
   "cell_type": "code",
   "execution_count": 6,
   "metadata": {
    "colab": {
     "base_uri": "https://localhost:8080/"
    },
    "id": "49fp7vp0e4mS",
    "outputId": "0fd0486d-04fe-4948-ceb8-b2dd562ebbef"
   },
   "outputs": [],
   "source": [
    "apps_df = apps_df.dropna(subset=['Rating'])\n",
    "for column in apps_df.columns:\n",
    "  apps_df[column].fillna(apps_df[column].mode()[0],inplace=True)\n",
    "apps_df.drop_duplicates(inplace=True)\n",
    "apps_df=apps_df=apps_df[apps_df['Rating']<=5]\n",
    "reviews_df.dropna(subset=['Translated_Review'],inplace=True)"
   ]
  },
  {
   "cell_type": "markdown",
   "metadata": {
    "id": "FmnLCTrgffX8"
   },
   "source": [
    "**Data Transformation**"
   ]
  },
  {
   "cell_type": "code",
   "execution_count": 7,
   "metadata": {
    "id": "dAZXZmfue4pR"
   },
   "outputs": [
    {
     "name": "stderr",
     "output_type": "stream",
     "text": [
      "C:\\Users\\Administrator\\AppData\\Local\\Temp\\ipykernel_9936\\789179743.py:1: FutureWarning: The default value of regex will change from True to False in a future version. In addition, single character regular expressions will *not* be treated as literal strings when regex=True.\n",
      "  apps_df['Installs']=apps_df['Installs'].str.replace(',','').str.replace('+','').astype(int)\n",
      "C:\\Users\\Administrator\\AppData\\Local\\Temp\\ipykernel_9936\\789179743.py:2: FutureWarning: The default value of regex will change from True to False in a future version. In addition, single character regular expressions will *not* be treated as literal strings when regex=True.\n",
      "  apps_df['Price']=apps_df['Price'].str.replace('$','').astype(float)\n"
     ]
    }
   ],
   "source": [
    "\n",
    "apps_df['Installs']=apps_df['Installs'].str.replace(',','').str.replace('+','').astype(int)\n",
    "apps_df['Price']=apps_df['Price'].str.replace('$','').astype(float)"
   ]
  },
  {
   "cell_type": "code",
   "execution_count": 8,
   "metadata": {
    "colab": {
     "base_uri": "https://localhost:8080/",
     "height": 491
    },
    "id": "Aq11_nH0e4si",
    "outputId": "dce87d4b-bd19-456a-ade9-f8b7d641e055"
   },
   "outputs": [
    {
     "data": {
      "text/plain": [
       "App                object\n",
       "Category           object\n",
       "Rating            float64\n",
       "Reviews            object\n",
       "Size               object\n",
       "Installs            int32\n",
       "Type               object\n",
       "Price             float64\n",
       "Content Rating     object\n",
       "Genres             object\n",
       "Last Updated       object\n",
       "Current Ver        object\n",
       "Android Ver        object\n",
       "dtype: object"
      ]
     },
     "execution_count": 8,
     "metadata": {},
     "output_type": "execute_result"
    }
   ],
   "source": [
    "apps_df.dtypes"
   ]
  },
  {
   "cell_type": "code",
   "execution_count": 9,
   "metadata": {
    "id": "fEfedMAze4vp"
   },
   "outputs": [],
   "source": [
    "#merge datasets\n",
    "merged_df=pd.merge(apps_df,reviews_df,on='App',how='inner')"
   ]
  },
  {
   "cell_type": "code",
   "execution_count": 10,
   "metadata": {
    "colab": {
     "base_uri": "https://localhost:8080/",
     "height": 981
    },
    "id": "TNwsQ987e4zQ",
    "outputId": "234d4278-e114-410a-abc3-b51cc373af20"
   },
   "outputs": [
    {
     "data": {
      "text/html": [
       "<div>\n",
       "<style scoped>\n",
       "    .dataframe tbody tr th:only-of-type {\n",
       "        vertical-align: middle;\n",
       "    }\n",
       "\n",
       "    .dataframe tbody tr th {\n",
       "        vertical-align: top;\n",
       "    }\n",
       "\n",
       "    .dataframe thead th {\n",
       "        text-align: right;\n",
       "    }\n",
       "</style>\n",
       "<table border=\"1\" class=\"dataframe\">\n",
       "  <thead>\n",
       "    <tr style=\"text-align: right;\">\n",
       "      <th></th>\n",
       "      <th>App</th>\n",
       "      <th>Category</th>\n",
       "      <th>Rating</th>\n",
       "      <th>Reviews</th>\n",
       "      <th>Size</th>\n",
       "      <th>Installs</th>\n",
       "      <th>Type</th>\n",
       "      <th>Price</th>\n",
       "      <th>Content Rating</th>\n",
       "      <th>Genres</th>\n",
       "      <th>Last Updated</th>\n",
       "      <th>Current Ver</th>\n",
       "      <th>Android Ver</th>\n",
       "      <th>Translated_Review</th>\n",
       "      <th>Sentiment</th>\n",
       "      <th>Sentiment_Polarity</th>\n",
       "      <th>Sentiment_Subjectivity</th>\n",
       "    </tr>\n",
       "  </thead>\n",
       "  <tbody>\n",
       "    <tr>\n",
       "      <th>0</th>\n",
       "      <td>Coloring book moana</td>\n",
       "      <td>ART_AND_DESIGN</td>\n",
       "      <td>3.9</td>\n",
       "      <td>967</td>\n",
       "      <td>14M</td>\n",
       "      <td>500000</td>\n",
       "      <td>Free</td>\n",
       "      <td>0.0</td>\n",
       "      <td>Everyone</td>\n",
       "      <td>Art &amp; Design;Pretend Play</td>\n",
       "      <td>January 15, 2018</td>\n",
       "      <td>2.0.0</td>\n",
       "      <td>4.0.3 and up</td>\n",
       "      <td>A kid's excessive ads. The types ads allowed a...</td>\n",
       "      <td>Negative</td>\n",
       "      <td>-0.250000</td>\n",
       "      <td>1.000000</td>\n",
       "    </tr>\n",
       "    <tr>\n",
       "      <th>1</th>\n",
       "      <td>Coloring book moana</td>\n",
       "      <td>ART_AND_DESIGN</td>\n",
       "      <td>3.9</td>\n",
       "      <td>967</td>\n",
       "      <td>14M</td>\n",
       "      <td>500000</td>\n",
       "      <td>Free</td>\n",
       "      <td>0.0</td>\n",
       "      <td>Everyone</td>\n",
       "      <td>Art &amp; Design;Pretend Play</td>\n",
       "      <td>January 15, 2018</td>\n",
       "      <td>2.0.0</td>\n",
       "      <td>4.0.3 and up</td>\n",
       "      <td>It bad &gt;:(</td>\n",
       "      <td>Negative</td>\n",
       "      <td>-0.725000</td>\n",
       "      <td>0.833333</td>\n",
       "    </tr>\n",
       "    <tr>\n",
       "      <th>2</th>\n",
       "      <td>Coloring book moana</td>\n",
       "      <td>ART_AND_DESIGN</td>\n",
       "      <td>3.9</td>\n",
       "      <td>967</td>\n",
       "      <td>14M</td>\n",
       "      <td>500000</td>\n",
       "      <td>Free</td>\n",
       "      <td>0.0</td>\n",
       "      <td>Everyone</td>\n",
       "      <td>Art &amp; Design;Pretend Play</td>\n",
       "      <td>January 15, 2018</td>\n",
       "      <td>2.0.0</td>\n",
       "      <td>4.0.3 and up</td>\n",
       "      <td>like</td>\n",
       "      <td>Neutral</td>\n",
       "      <td>0.000000</td>\n",
       "      <td>0.000000</td>\n",
       "    </tr>\n",
       "    <tr>\n",
       "      <th>3</th>\n",
       "      <td>Coloring book moana</td>\n",
       "      <td>ART_AND_DESIGN</td>\n",
       "      <td>3.9</td>\n",
       "      <td>967</td>\n",
       "      <td>14M</td>\n",
       "      <td>500000</td>\n",
       "      <td>Free</td>\n",
       "      <td>0.0</td>\n",
       "      <td>Everyone</td>\n",
       "      <td>Art &amp; Design;Pretend Play</td>\n",
       "      <td>January 15, 2018</td>\n",
       "      <td>2.0.0</td>\n",
       "      <td>4.0.3 and up</td>\n",
       "      <td>I love colors inspyering</td>\n",
       "      <td>Positive</td>\n",
       "      <td>0.500000</td>\n",
       "      <td>0.600000</td>\n",
       "    </tr>\n",
       "    <tr>\n",
       "      <th>4</th>\n",
       "      <td>Coloring book moana</td>\n",
       "      <td>ART_AND_DESIGN</td>\n",
       "      <td>3.9</td>\n",
       "      <td>967</td>\n",
       "      <td>14M</td>\n",
       "      <td>500000</td>\n",
       "      <td>Free</td>\n",
       "      <td>0.0</td>\n",
       "      <td>Everyone</td>\n",
       "      <td>Art &amp; Design;Pretend Play</td>\n",
       "      <td>January 15, 2018</td>\n",
       "      <td>2.0.0</td>\n",
       "      <td>4.0.3 and up</td>\n",
       "      <td>I hate</td>\n",
       "      <td>Negative</td>\n",
       "      <td>-0.800000</td>\n",
       "      <td>0.900000</td>\n",
       "    </tr>\n",
       "    <tr>\n",
       "      <th>...</th>\n",
       "      <td>...</td>\n",
       "      <td>...</td>\n",
       "      <td>...</td>\n",
       "      <td>...</td>\n",
       "      <td>...</td>\n",
       "      <td>...</td>\n",
       "      <td>...</td>\n",
       "      <td>...</td>\n",
       "      <td>...</td>\n",
       "      <td>...</td>\n",
       "      <td>...</td>\n",
       "      <td>...</td>\n",
       "      <td>...</td>\n",
       "      <td>...</td>\n",
       "      <td>...</td>\n",
       "      <td>...</td>\n",
       "      <td>...</td>\n",
       "    </tr>\n",
       "    <tr>\n",
       "      <th>59119</th>\n",
       "      <td>A+ Gallery - Photos &amp; Videos</td>\n",
       "      <td>PHOTOGRAPHY</td>\n",
       "      <td>4.5</td>\n",
       "      <td>223941</td>\n",
       "      <td>Varies with device</td>\n",
       "      <td>10000000</td>\n",
       "      <td>Free</td>\n",
       "      <td>0.0</td>\n",
       "      <td>Everyone</td>\n",
       "      <td>Photography</td>\n",
       "      <td>August 6, 2018</td>\n",
       "      <td>Varies with device</td>\n",
       "      <td>Varies with device</td>\n",
       "      <td>Overall great app. Best gallery seen far</td>\n",
       "      <td>Positive</td>\n",
       "      <td>0.475000</td>\n",
       "      <td>0.512500</td>\n",
       "    </tr>\n",
       "    <tr>\n",
       "      <th>59120</th>\n",
       "      <td>A+ Gallery - Photos &amp; Videos</td>\n",
       "      <td>PHOTOGRAPHY</td>\n",
       "      <td>4.5</td>\n",
       "      <td>223941</td>\n",
       "      <td>Varies with device</td>\n",
       "      <td>10000000</td>\n",
       "      <td>Free</td>\n",
       "      <td>0.0</td>\n",
       "      <td>Everyone</td>\n",
       "      <td>Photography</td>\n",
       "      <td>August 6, 2018</td>\n",
       "      <td>Varies with device</td>\n",
       "      <td>Varies with device</td>\n",
       "      <td>Recommended, 100% love it, keep good work dev ...</td>\n",
       "      <td>Positive</td>\n",
       "      <td>0.566667</td>\n",
       "      <td>0.733333</td>\n",
       "    </tr>\n",
       "    <tr>\n",
       "      <th>59121</th>\n",
       "      <td>A+ Gallery - Photos &amp; Videos</td>\n",
       "      <td>PHOTOGRAPHY</td>\n",
       "      <td>4.5</td>\n",
       "      <td>223941</td>\n",
       "      <td>Varies with device</td>\n",
       "      <td>10000000</td>\n",
       "      <td>Free</td>\n",
       "      <td>0.0</td>\n",
       "      <td>Everyone</td>\n",
       "      <td>Photography</td>\n",
       "      <td>August 6, 2018</td>\n",
       "      <td>Varies with device</td>\n",
       "      <td>Varies with device</td>\n",
       "      <td>Too much ads</td>\n",
       "      <td>Positive</td>\n",
       "      <td>0.200000</td>\n",
       "      <td>0.200000</td>\n",
       "    </tr>\n",
       "    <tr>\n",
       "      <th>59122</th>\n",
       "      <td>A+ Gallery - Photos &amp; Videos</td>\n",
       "      <td>PHOTOGRAPHY</td>\n",
       "      <td>4.5</td>\n",
       "      <td>223941</td>\n",
       "      <td>Varies with device</td>\n",
       "      <td>10000000</td>\n",
       "      <td>Free</td>\n",
       "      <td>0.0</td>\n",
       "      <td>Everyone</td>\n",
       "      <td>Photography</td>\n",
       "      <td>August 6, 2018</td>\n",
       "      <td>Varies with device</td>\n",
       "      <td>Varies with device</td>\n",
       "      <td>Just allow time ...</td>\n",
       "      <td>Neutral</td>\n",
       "      <td>0.000000</td>\n",
       "      <td>0.000000</td>\n",
       "    </tr>\n",
       "    <tr>\n",
       "      <th>59123</th>\n",
       "      <td>A+ Gallery - Photos &amp; Videos</td>\n",
       "      <td>PHOTOGRAPHY</td>\n",
       "      <td>4.5</td>\n",
       "      <td>223941</td>\n",
       "      <td>Varies with device</td>\n",
       "      <td>10000000</td>\n",
       "      <td>Free</td>\n",
       "      <td>0.0</td>\n",
       "      <td>Everyone</td>\n",
       "      <td>Photography</td>\n",
       "      <td>August 6, 2018</td>\n",
       "      <td>Varies with device</td>\n",
       "      <td>Varies with device</td>\n",
       "      <td>It's good best gallery phone</td>\n",
       "      <td>Positive</td>\n",
       "      <td>0.850000</td>\n",
       "      <td>0.450000</td>\n",
       "    </tr>\n",
       "  </tbody>\n",
       "</table>\n",
       "<p>59124 rows × 17 columns</p>\n",
       "</div>"
      ],
      "text/plain": [
       "                                App        Category  Rating Reviews  \\\n",
       "0               Coloring book moana  ART_AND_DESIGN     3.9     967   \n",
       "1               Coloring book moana  ART_AND_DESIGN     3.9     967   \n",
       "2               Coloring book moana  ART_AND_DESIGN     3.9     967   \n",
       "3               Coloring book moana  ART_AND_DESIGN     3.9     967   \n",
       "4               Coloring book moana  ART_AND_DESIGN     3.9     967   \n",
       "...                             ...             ...     ...     ...   \n",
       "59119  A+ Gallery - Photos & Videos     PHOTOGRAPHY     4.5  223941   \n",
       "59120  A+ Gallery - Photos & Videos     PHOTOGRAPHY     4.5  223941   \n",
       "59121  A+ Gallery - Photos & Videos     PHOTOGRAPHY     4.5  223941   \n",
       "59122  A+ Gallery - Photos & Videos     PHOTOGRAPHY     4.5  223941   \n",
       "59123  A+ Gallery - Photos & Videos     PHOTOGRAPHY     4.5  223941   \n",
       "\n",
       "                     Size  Installs  Type  Price Content Rating  \\\n",
       "0                     14M    500000  Free    0.0       Everyone   \n",
       "1                     14M    500000  Free    0.0       Everyone   \n",
       "2                     14M    500000  Free    0.0       Everyone   \n",
       "3                     14M    500000  Free    0.0       Everyone   \n",
       "4                     14M    500000  Free    0.0       Everyone   \n",
       "...                   ...       ...   ...    ...            ...   \n",
       "59119  Varies with device  10000000  Free    0.0       Everyone   \n",
       "59120  Varies with device  10000000  Free    0.0       Everyone   \n",
       "59121  Varies with device  10000000  Free    0.0       Everyone   \n",
       "59122  Varies with device  10000000  Free    0.0       Everyone   \n",
       "59123  Varies with device  10000000  Free    0.0       Everyone   \n",
       "\n",
       "                          Genres      Last Updated         Current Ver  \\\n",
       "0      Art & Design;Pretend Play  January 15, 2018               2.0.0   \n",
       "1      Art & Design;Pretend Play  January 15, 2018               2.0.0   \n",
       "2      Art & Design;Pretend Play  January 15, 2018               2.0.0   \n",
       "3      Art & Design;Pretend Play  January 15, 2018               2.0.0   \n",
       "4      Art & Design;Pretend Play  January 15, 2018               2.0.0   \n",
       "...                          ...               ...                 ...   \n",
       "59119                Photography    August 6, 2018  Varies with device   \n",
       "59120                Photography    August 6, 2018  Varies with device   \n",
       "59121                Photography    August 6, 2018  Varies with device   \n",
       "59122                Photography    August 6, 2018  Varies with device   \n",
       "59123                Photography    August 6, 2018  Varies with device   \n",
       "\n",
       "              Android Ver                                  Translated_Review  \\\n",
       "0            4.0.3 and up  A kid's excessive ads. The types ads allowed a...   \n",
       "1            4.0.3 and up                                         It bad >:(   \n",
       "2            4.0.3 and up                                               like   \n",
       "3            4.0.3 and up                           I love colors inspyering   \n",
       "4            4.0.3 and up                                             I hate   \n",
       "...                   ...                                                ...   \n",
       "59119  Varies with device           Overall great app. Best gallery seen far   \n",
       "59120  Varies with device  Recommended, 100% love it, keep good work dev ...   \n",
       "59121  Varies with device                                       Too much ads   \n",
       "59122  Varies with device                                Just allow time ...   \n",
       "59123  Varies with device                       It's good best gallery phone   \n",
       "\n",
       "      Sentiment  Sentiment_Polarity  Sentiment_Subjectivity  \n",
       "0      Negative           -0.250000                1.000000  \n",
       "1      Negative           -0.725000                0.833333  \n",
       "2       Neutral            0.000000                0.000000  \n",
       "3      Positive            0.500000                0.600000  \n",
       "4      Negative           -0.800000                0.900000  \n",
       "...         ...                 ...                     ...  \n",
       "59119  Positive            0.475000                0.512500  \n",
       "59120  Positive            0.566667                0.733333  \n",
       "59121  Positive            0.200000                0.200000  \n",
       "59122   Neutral            0.000000                0.000000  \n",
       "59123  Positive            0.850000                0.450000  \n",
       "\n",
       "[59124 rows x 17 columns]"
      ]
     },
     "execution_count": 10,
     "metadata": {},
     "output_type": "execute_result"
    }
   ],
   "source": [
    "merged_df"
   ]
  },
  {
   "cell_type": "code",
   "execution_count": 11,
   "metadata": {
    "id": "htKDsvnIe412"
   },
   "outputs": [],
   "source": [
    "def convert_size(size):\n",
    "  if isinstance(size,str):\n",
    "    if 'M'in size:\n",
    "      return float(size.replace('M',''))\n",
    "    elif 'k' in size:\n",
    "      return float(size.replace('k',''))/1024\n",
    "    else:\n",
    "      return np.nan"
   ]
  },
  {
   "cell_type": "code",
   "execution_count": 12,
   "metadata": {
    "id": "tOD0dZhze442"
   },
   "outputs": [],
   "source": [
    "apps_df['Size']=apps_df['Size'].apply(convert_size)"
   ]
  },
  {
   "cell_type": "code",
   "execution_count": 13,
   "metadata": {
    "id": "Gz_bD4fle48B"
   },
   "outputs": [],
   "source": [
    "#logarithmic\n",
    "apps_df['Log_Installs']=np.log(apps_df['Installs'])\n",
    "apps_df['Reviews'] = pd.to_numeric(apps_df['Reviews'], errors='coerce')\n",
    "apps_df['Log_Reviews']=np.log(apps_df['Reviews'])"
   ]
  },
  {
   "cell_type": "code",
   "execution_count": 14,
   "metadata": {
    "colab": {
     "base_uri": "https://localhost:8080/",
     "height": 554
    },
    "id": "Czj19r6Ce4_E",
    "outputId": "659230e5-c06d-454f-f75f-777d4fa89a12"
   },
   "outputs": [
    {
     "data": {
      "text/plain": [
       "App                object\n",
       "Category           object\n",
       "Rating            float64\n",
       "Reviews             int64\n",
       "Size              float64\n",
       "Installs            int32\n",
       "Type               object\n",
       "Price             float64\n",
       "Content Rating     object\n",
       "Genres             object\n",
       "Last Updated       object\n",
       "Current Ver        object\n",
       "Android Ver        object\n",
       "Log_Installs      float64\n",
       "Log_Reviews       float64\n",
       "dtype: object"
      ]
     },
     "execution_count": 14,
     "metadata": {},
     "output_type": "execute_result"
    }
   ],
   "source": [
    "apps_df.dtypes"
   ]
  },
  {
   "cell_type": "code",
   "execution_count": 15,
   "metadata": {
    "id": "yIccC_RIe5CR"
   },
   "outputs": [],
   "source": [
    "#categorise rating\n",
    "\n",
    "def rating_group(rating):\n",
    "    if rating >= 4:\n",
    "        return 'Top rated app'\n",
    "    elif rating >=3:\n",
    "        return 'Above average'\n",
    "    elif rating >=2:\n",
    "        return 'Average'\n",
    "    else:\n",
    "        return 'Below Average'\n",
    "apps_df['Rating_Group']=apps_df['Rating'].apply(rating_group)"
   ]
  },
  {
   "cell_type": "code",
   "execution_count": 16,
   "metadata": {
    "id": "Dw4M8e1Ue5Fh"
   },
   "outputs": [],
   "source": [
    "#metric - revenue column for an app\n",
    "apps_df['Revenue']=apps_df['Price']*apps_df['Installs']"
   ]
  },
  {
   "cell_type": "code",
   "execution_count": 17,
   "metadata": {
    "id": "KnTxEQmTe5I5"
   },
   "outputs": [],
   "source": [
    "#extracting year column\n",
    "apps_df['Last Updated']=pd.to_datetime(apps_df['Last Updated'],errors='coerce')"
   ]
  },
  {
   "cell_type": "code",
   "execution_count": 18,
   "metadata": {
    "id": "U6fBRy2zghOK"
   },
   "outputs": [],
   "source": [
    "apps_df['Year']=apps_df['Last Updated'].dt.year"
   ]
  },
  {
   "cell_type": "code",
   "execution_count": 19,
   "metadata": {},
   "outputs": [],
   "source": [
    "apps_df['Size'] = pd.to_numeric(apps_df['Size'], errors='coerce')"
   ]
  },
  {
   "cell_type": "code",
   "execution_count": 20,
   "metadata": {
    "colab": {
     "base_uri": "https://localhost:8080/",
     "height": 573
    },
    "id": "2CFZGjq3e5MK",
    "outputId": "56c736a3-e980-400a-a60d-7962c426bdb9"
   },
   "outputs": [
    {
     "data": {
      "text/html": [
       "<div>\n",
       "<style scoped>\n",
       "    .dataframe tbody tr th:only-of-type {\n",
       "        vertical-align: middle;\n",
       "    }\n",
       "\n",
       "    .dataframe tbody tr th {\n",
       "        vertical-align: top;\n",
       "    }\n",
       "\n",
       "    .dataframe thead th {\n",
       "        text-align: right;\n",
       "    }\n",
       "</style>\n",
       "<table border=\"1\" class=\"dataframe\">\n",
       "  <thead>\n",
       "    <tr style=\"text-align: right;\">\n",
       "      <th></th>\n",
       "      <th>App</th>\n",
       "      <th>Category</th>\n",
       "      <th>Rating</th>\n",
       "      <th>Reviews</th>\n",
       "      <th>Size</th>\n",
       "      <th>Installs</th>\n",
       "      <th>Type</th>\n",
       "      <th>Price</th>\n",
       "      <th>Content Rating</th>\n",
       "      <th>Genres</th>\n",
       "      <th>Last Updated</th>\n",
       "      <th>Current Ver</th>\n",
       "      <th>Android Ver</th>\n",
       "      <th>Log_Installs</th>\n",
       "      <th>Log_Reviews</th>\n",
       "      <th>Rating_Group</th>\n",
       "      <th>Revenue</th>\n",
       "      <th>Year</th>\n",
       "    </tr>\n",
       "  </thead>\n",
       "  <tbody>\n",
       "    <tr>\n",
       "      <th>0</th>\n",
       "      <td>Photo Editor &amp; Candy Camera &amp; Grid &amp; ScrapBook</td>\n",
       "      <td>ART_AND_DESIGN</td>\n",
       "      <td>4.1</td>\n",
       "      <td>159</td>\n",
       "      <td>19.0</td>\n",
       "      <td>10000</td>\n",
       "      <td>Free</td>\n",
       "      <td>0.0</td>\n",
       "      <td>Everyone</td>\n",
       "      <td>Art &amp; Design</td>\n",
       "      <td>2018-01-07</td>\n",
       "      <td>1.0.0</td>\n",
       "      <td>4.0.3 and up</td>\n",
       "      <td>9.210340</td>\n",
       "      <td>5.068904</td>\n",
       "      <td>Top rated app</td>\n",
       "      <td>0.0</td>\n",
       "      <td>2018</td>\n",
       "    </tr>\n",
       "    <tr>\n",
       "      <th>1</th>\n",
       "      <td>Coloring book moana</td>\n",
       "      <td>ART_AND_DESIGN</td>\n",
       "      <td>3.9</td>\n",
       "      <td>967</td>\n",
       "      <td>14.0</td>\n",
       "      <td>500000</td>\n",
       "      <td>Free</td>\n",
       "      <td>0.0</td>\n",
       "      <td>Everyone</td>\n",
       "      <td>Art &amp; Design;Pretend Play</td>\n",
       "      <td>2018-01-15</td>\n",
       "      <td>2.0.0</td>\n",
       "      <td>4.0.3 and up</td>\n",
       "      <td>13.122363</td>\n",
       "      <td>6.874198</td>\n",
       "      <td>Above average</td>\n",
       "      <td>0.0</td>\n",
       "      <td>2018</td>\n",
       "    </tr>\n",
       "    <tr>\n",
       "      <th>2</th>\n",
       "      <td>U Launcher Lite – FREE Live Cool Themes, Hide ...</td>\n",
       "      <td>ART_AND_DESIGN</td>\n",
       "      <td>4.7</td>\n",
       "      <td>87510</td>\n",
       "      <td>8.7</td>\n",
       "      <td>5000000</td>\n",
       "      <td>Free</td>\n",
       "      <td>0.0</td>\n",
       "      <td>Everyone</td>\n",
       "      <td>Art &amp; Design</td>\n",
       "      <td>2018-08-01</td>\n",
       "      <td>1.2.4</td>\n",
       "      <td>4.0.3 and up</td>\n",
       "      <td>15.424948</td>\n",
       "      <td>11.379508</td>\n",
       "      <td>Top rated app</td>\n",
       "      <td>0.0</td>\n",
       "      <td>2018</td>\n",
       "    </tr>\n",
       "    <tr>\n",
       "      <th>3</th>\n",
       "      <td>Sketch - Draw &amp; Paint</td>\n",
       "      <td>ART_AND_DESIGN</td>\n",
       "      <td>4.5</td>\n",
       "      <td>215644</td>\n",
       "      <td>25.0</td>\n",
       "      <td>50000000</td>\n",
       "      <td>Free</td>\n",
       "      <td>0.0</td>\n",
       "      <td>Teen</td>\n",
       "      <td>Art &amp; Design</td>\n",
       "      <td>2018-06-08</td>\n",
       "      <td>Varies with device</td>\n",
       "      <td>4.2 and up</td>\n",
       "      <td>17.727534</td>\n",
       "      <td>12.281384</td>\n",
       "      <td>Top rated app</td>\n",
       "      <td>0.0</td>\n",
       "      <td>2018</td>\n",
       "    </tr>\n",
       "    <tr>\n",
       "      <th>4</th>\n",
       "      <td>Pixel Draw - Number Art Coloring Book</td>\n",
       "      <td>ART_AND_DESIGN</td>\n",
       "      <td>4.3</td>\n",
       "      <td>967</td>\n",
       "      <td>2.8</td>\n",
       "      <td>100000</td>\n",
       "      <td>Free</td>\n",
       "      <td>0.0</td>\n",
       "      <td>Everyone</td>\n",
       "      <td>Art &amp; Design;Creativity</td>\n",
       "      <td>2018-06-20</td>\n",
       "      <td>1.1</td>\n",
       "      <td>4.4 and up</td>\n",
       "      <td>11.512925</td>\n",
       "      <td>6.874198</td>\n",
       "      <td>Top rated app</td>\n",
       "      <td>0.0</td>\n",
       "      <td>2018</td>\n",
       "    </tr>\n",
       "  </tbody>\n",
       "</table>\n",
       "</div>"
      ],
      "text/plain": [
       "                                                 App        Category  Rating  \\\n",
       "0     Photo Editor & Candy Camera & Grid & ScrapBook  ART_AND_DESIGN     4.1   \n",
       "1                                Coloring book moana  ART_AND_DESIGN     3.9   \n",
       "2  U Launcher Lite – FREE Live Cool Themes, Hide ...  ART_AND_DESIGN     4.7   \n",
       "3                              Sketch - Draw & Paint  ART_AND_DESIGN     4.5   \n",
       "4              Pixel Draw - Number Art Coloring Book  ART_AND_DESIGN     4.3   \n",
       "\n",
       "   Reviews  Size  Installs  Type  Price Content Rating  \\\n",
       "0      159  19.0     10000  Free    0.0       Everyone   \n",
       "1      967  14.0    500000  Free    0.0       Everyone   \n",
       "2    87510   8.7   5000000  Free    0.0       Everyone   \n",
       "3   215644  25.0  50000000  Free    0.0           Teen   \n",
       "4      967   2.8    100000  Free    0.0       Everyone   \n",
       "\n",
       "                      Genres Last Updated         Current Ver   Android Ver  \\\n",
       "0               Art & Design   2018-01-07               1.0.0  4.0.3 and up   \n",
       "1  Art & Design;Pretend Play   2018-01-15               2.0.0  4.0.3 and up   \n",
       "2               Art & Design   2018-08-01               1.2.4  4.0.3 and up   \n",
       "3               Art & Design   2018-06-08  Varies with device    4.2 and up   \n",
       "4    Art & Design;Creativity   2018-06-20                 1.1    4.4 and up   \n",
       "\n",
       "   Log_Installs  Log_Reviews   Rating_Group  Revenue  Year  \n",
       "0      9.210340     5.068904  Top rated app      0.0  2018  \n",
       "1     13.122363     6.874198  Above average      0.0  2018  \n",
       "2     15.424948    11.379508  Top rated app      0.0  2018  \n",
       "3     17.727534    12.281384  Top rated app      0.0  2018  \n",
       "4     11.512925     6.874198  Top rated app      0.0  2018  "
      ]
     },
     "execution_count": 20,
     "metadata": {},
     "output_type": "execute_result"
    }
   ],
   "source": [
    "apps_df.head()"
   ]
  },
  {
   "cell_type": "markdown",
   "metadata": {
    "id": "4s67p07CgnBC"
   },
   "source": [
    "**Sentiment Analysis**"
   ]
  },
  {
   "cell_type": "code",
   "execution_count": 21,
   "metadata": {
    "id": "2GwgYA5Oe5PH"
   },
   "outputs": [],
   "source": [
    "sia = SentimentIntensityAnalyzer()\n",
    "\n",
    "#Polarity Scores in SIA\n",
    "#Positive, Negative, Neutral and Compound: close to -1 - Very negative ; close to +1 - Very positive"
   ]
  },
  {
   "cell_type": "code",
   "execution_count": 22,
   "metadata": {
    "colab": {
     "base_uri": "https://localhost:8080/"
    },
    "id": "cfdcdbhhe5Vd",
    "outputId": "79172535-9a22-43b9-af12-310d7e898d75"
   },
   "outputs": [
    {
     "name": "stdout",
     "output_type": "stream",
     "text": [
      "{'neg': 0.0, 'neu': 0.42, 'pos': 0.58, 'compound': 0.8516}\n"
     ]
    }
   ],
   "source": [
    "#sample review 1 - positive\n",
    "review = \"This app is amazing! I love the new features.\"\n",
    "sentiment_score= sia.polarity_scores(review)\n",
    "print(sentiment_score)"
   ]
  },
  {
   "cell_type": "code",
   "execution_count": 23,
   "metadata": {
    "colab": {
     "base_uri": "https://localhost:8080/"
    },
    "id": "HXjdy-Dwe5Yl",
    "outputId": "01500864-c02c-442f-e182-a9dcb36e30a8"
   },
   "outputs": [
    {
     "name": "stdout",
     "output_type": "stream",
     "text": [
      "{'neg': 0.535, 'neu': 0.465, 'pos': 0.0, 'compound': -0.8427}\n"
     ]
    }
   ],
   "source": [
    "#sample review 2 - negative\n",
    "review = \"This app is very bad! I hate the new features.\"\n",
    "sentiment_score= sia.polarity_scores(review)\n",
    "print(sentiment_score)"
   ]
  },
  {
   "cell_type": "code",
   "execution_count": 24,
   "metadata": {
    "colab": {
     "base_uri": "https://localhost:8080/"
    },
    "id": "CYmVb3Ahe5b3",
    "outputId": "d2d0cc30-d50e-4410-a11b-23df16a5258a"
   },
   "outputs": [
    {
     "name": "stdout",
     "output_type": "stream",
     "text": [
      "{'neg': 0.0, 'neu': 0.612, 'pos': 0.388, 'compound': 0.2263}\n"
     ]
    }
   ],
   "source": [
    "#sample review 3 - average\n",
    "review = \"This app is okay\"\n",
    "sentiment_score= sia.polarity_scores(review)\n",
    "print(sentiment_score)"
   ]
  },
  {
   "cell_type": "code",
   "execution_count": 27,
   "metadata": {
    "id": "uwjCnvaKe5fV"
   },
   "outputs": [],
   "source": [
    "reviews_df['Sentiment_Score']=reviews_df['Translated_Review'].apply(lambda x: sia.polarity_scores(str(x))['compound'])"
   ]
  },
  {
   "cell_type": "code",
   "execution_count": 28,
   "metadata": {
    "colab": {
     "base_uri": "https://localhost:8080/",
     "height": 573
    },
    "id": "RFux1nqne5iQ",
    "outputId": "3bc43161-7d12-4337-b3ba-52b6444cb029"
   },
   "outputs": [
    {
     "data": {
      "text/html": [
       "<div>\n",
       "<style scoped>\n",
       "    .dataframe tbody tr th:only-of-type {\n",
       "        vertical-align: middle;\n",
       "    }\n",
       "\n",
       "    .dataframe tbody tr th {\n",
       "        vertical-align: top;\n",
       "    }\n",
       "\n",
       "    .dataframe thead th {\n",
       "        text-align: right;\n",
       "    }\n",
       "</style>\n",
       "<table border=\"1\" class=\"dataframe\">\n",
       "  <thead>\n",
       "    <tr style=\"text-align: right;\">\n",
       "      <th></th>\n",
       "      <th>App</th>\n",
       "      <th>Translated_Review</th>\n",
       "      <th>Sentiment</th>\n",
       "      <th>Sentiment_Polarity</th>\n",
       "      <th>Sentiment_Subjectivity</th>\n",
       "      <th>Sentiment_Score</th>\n",
       "    </tr>\n",
       "  </thead>\n",
       "  <tbody>\n",
       "    <tr>\n",
       "      <th>0</th>\n",
       "      <td>10 Best Foods for You</td>\n",
       "      <td>I like eat delicious food. That's I'm cooking ...</td>\n",
       "      <td>Positive</td>\n",
       "      <td>1.00</td>\n",
       "      <td>0.533333</td>\n",
       "      <td>0.9531</td>\n",
       "    </tr>\n",
       "    <tr>\n",
       "      <th>1</th>\n",
       "      <td>10 Best Foods for You</td>\n",
       "      <td>This help eating healthy exercise regular basis</td>\n",
       "      <td>Positive</td>\n",
       "      <td>0.25</td>\n",
       "      <td>0.288462</td>\n",
       "      <td>0.6597</td>\n",
       "    </tr>\n",
       "    <tr>\n",
       "      <th>3</th>\n",
       "      <td>10 Best Foods for You</td>\n",
       "      <td>Works great especially going grocery store</td>\n",
       "      <td>Positive</td>\n",
       "      <td>0.40</td>\n",
       "      <td>0.875000</td>\n",
       "      <td>0.6249</td>\n",
       "    </tr>\n",
       "    <tr>\n",
       "      <th>4</th>\n",
       "      <td>10 Best Foods for You</td>\n",
       "      <td>Best idea us</td>\n",
       "      <td>Positive</td>\n",
       "      <td>1.00</td>\n",
       "      <td>0.300000</td>\n",
       "      <td>0.6369</td>\n",
       "    </tr>\n",
       "    <tr>\n",
       "      <th>5</th>\n",
       "      <td>10 Best Foods for You</td>\n",
       "      <td>Best way</td>\n",
       "      <td>Positive</td>\n",
       "      <td>1.00</td>\n",
       "      <td>0.300000</td>\n",
       "      <td>0.6369</td>\n",
       "    </tr>\n",
       "  </tbody>\n",
       "</table>\n",
       "</div>"
      ],
      "text/plain": [
       "                     App                                  Translated_Review  \\\n",
       "0  10 Best Foods for You  I like eat delicious food. That's I'm cooking ...   \n",
       "1  10 Best Foods for You    This help eating healthy exercise regular basis   \n",
       "3  10 Best Foods for You         Works great especially going grocery store   \n",
       "4  10 Best Foods for You                                       Best idea us   \n",
       "5  10 Best Foods for You                                           Best way   \n",
       "\n",
       "  Sentiment  Sentiment_Polarity  Sentiment_Subjectivity  Sentiment_Score  \n",
       "0  Positive                1.00                0.533333           0.9531  \n",
       "1  Positive                0.25                0.288462           0.6597  \n",
       "3  Positive                0.40                0.875000           0.6249  \n",
       "4  Positive                1.00                0.300000           0.6369  \n",
       "5  Positive                1.00                0.300000           0.6369  "
      ]
     },
     "execution_count": 28,
     "metadata": {},
     "output_type": "execute_result"
    }
   ],
   "source": [
    "reviews_df.head()"
   ]
  },
  {
   "cell_type": "markdown",
   "metadata": {
    "id": "eMU6Gr4ChOoh"
   },
   "source": [
    "**Data Visualization**"
   ]
  },
  {
   "cell_type": "code",
   "execution_count": 29,
   "metadata": {
    "id": "c7v_Mjcre5lX"
   },
   "outputs": [],
   "source": [
    "#creating a directory for the html files\n",
    "html_files_path=\"./\"\n",
    "if not os.path.exists(html_files_path):\n",
    "    os.makedirs(html_files_path)"
   ]
  },
  {
   "cell_type": "code",
   "execution_count": 30,
   "metadata": {
    "id": "L1zEGDtYe5oZ"
   },
   "outputs": [],
   "source": [
    "plot_containers=\"\""
   ]
  },
  {
   "cell_type": "code",
   "execution_count": 31,
   "metadata": {
    "id": "XrYzA67We5ry"
   },
   "outputs": [],
   "source": [
    "# Save each Plotly figure to an HTML file\n",
    "def save_plot_as_html(fig, filename, insight):\n",
    "    global plot_containers\n",
    "    filepath = os.path.join(html_files_path, filename)\n",
    "    html_content = pio.to_html(fig, full_html=False, include_plotlyjs='inline')\n",
    "    # Append the plot and its insight to plot_containers\n",
    "    plot_containers += f\"\"\"\n",
    "    <div class=\"plot-container\" id=\"{filename}\" onclick=\"openPlot('{filename}')\">\n",
    "        <div class=\"plot\">{html_content}</div>\n",
    "        <div class=\"insights\">{insight}</div>\n",
    "    </div>\n",
    "    \"\"\"\n",
    "    fig.write_html(filepath, full_html=False, include_plotlyjs='inline')\n",
    "\n",
    "#defining plots\n",
    "plot_width=400\n",
    "plot_height=300\n",
    "plot_bg_color='black'\n",
    "text_color='white'\n",
    "title_font={'size':16}\n",
    "axis_font={'size':12}"
   ]
  },
  {
   "cell_type": "code",
   "execution_count": 32,
   "metadata": {},
   "outputs": [],
   "source": [
    "#figure 1 - stacked bar chart\n",
    "\n",
    "#filters to be applied -\n",
    "#1.apps with more than 1,000 reviews\n",
    "apps_filtered = apps_df[apps_df['Reviews'] > 1000]\n",
    "\n",
    "#2.group by the top 5 categories.\n",
    "top_categories = apps_filtered.groupby('Category')['Reviews'].sum().nlargest(5).index\n",
    "apps_filtered = apps_filtered[apps_filtered['Category'].isin(top_categories)]\n",
    "\n",
    "\n",
    "merged_df = reviews_df.merge(apps_filtered[['App', 'Category', 'Rating']], on='App')\n",
    "\n",
    "#3.segmented by rating groups\n",
    "def categorize_rating(rating):\n",
    "    if rating >= 4:\n",
    "        return '4-5 Stars'\n",
    "    elif rating >= 3:\n",
    "        return '3-4 Stars'\n",
    "    else:\n",
    "        return '1-2 Stars'\n",
    "\n",
    "merged_df['Rating Group'] = merged_df['Rating'].apply(categorize_rating)\n",
    "\n",
    "sentiment_counts = merged_df.groupby(['Category', 'Rating Group', 'Sentiment']).size().reset_index(name='Count')\n",
    "\n",
    "\n",
    "fig1 = px.bar(\n",
    "    sentiment_counts,\n",
    "    x='Rating Group',\n",
    "    y='Count',\n",
    "    color='Sentiment',\n",
    "    barmode='stack',\n",
    "    facet_col='Category',\n",
    "    title='Sentiment Distribution by Rating Group (Top 5 Categories)',\n",
    "    labels={'Count': 'Number of Reviews', 'Rating Group': 'Star Rating'},\n",
    "    color_discrete_map={'Positive': 'green', 'Neutral': 'gray', 'Negative': 'red'}\n",
    ")\n",
    "\n",
    "fig1.update_layout(\n",
    "    plot_bgcolor='black',\n",
    "    paper_bgcolor='black',\n",
    "    font_color='white',\n",
    "    title_font={'size':16},\n",
    "    xaxis=dict(title_font={'size':12}),\n",
    "    yaxis=dict(title_font={'size':12}),\n",
    "    margin=dict(l=10,r=10,t=30,b=10)\n",
    ")\n",
    "\n",
    "save_plot_as_html(fig1,\"Sentiment Distribution 1.html\",\"Paid apps generally have higher ratings compared to free apps, suggesting that users expect higher quality from apps they pay for\")\n"
   ]
  },
  {
   "cell_type": "code",
   "execution_count": 33,
   "metadata": {},
   "outputs": [],
   "source": [
    "#figure 2 - dual axis chart\n",
    "\n",
    "apps_df['Android Ver'] = apps_df['Android Ver'].astype(str).str.extract(r'(\\d+\\.\\d+)')[0].astype(float)\n",
    "\n",
    "#filters to be applied -\n",
    "\n",
    "#1.applying required filters:\n",
    "filtered_apps = apps_df[\n",
    "    (apps_df['Installs'] >= 10000) &\n",
    "    ((apps_df['Revenue'] >= 10000) | (apps_df['Type'] == 'Free')) &  # Allow Free apps even if revenue < 10,000\n",
    "    (apps_df['Android Ver'] > 4.0) &\n",
    "    (apps_df['Size'] > 15) &\n",
    "    (apps_df['Content Rating'] == 'Everyone') &\n",
    "    (apps_df['App'].str.len() <= 30)\n",
    "]\n",
    "\n",
    "#2.top 3 categories based on the number of filtered apps\n",
    "top_3_categories = filtered_apps['Category'].value_counts().nlargest(3).index\n",
    "filtered_apps = filtered_apps[filtered_apps['Category'].isin(top_3_categories)]\n",
    "\n",
    "#3.caluclating installs and revenue separately for Free and Paid apps\n",
    "category_summary = filtered_apps.groupby(['Category', 'Type'])[['Installs', 'Revenue']].mean().reset_index()\n",
    "\n",
    "categories = top_3_categories.tolist()\n",
    "types = ['Free', 'Paid']\n",
    "full_index = pd.MultiIndex.from_product([categories, types], names=['Category', 'Type'])\n",
    "\n",
    "category_summary = category_summary.set_index(['Category', 'Type']).reindex(full_index).fillna(0).reset_index()\n",
    "\n",
    "fig2 = go.Figure()\n",
    "\n",
    "# Add bar chart for Installs (Free & Paid separately)\n",
    "fig2.add_trace(go.Bar(\n",
    "    x=category_summary[category_summary['Type'] == 'Free']['Category'],\n",
    "    y=category_summary[category_summary['Type'] == 'Free']['Installs'],\n",
    "    name='Avg Installs (Free)',\n",
    "    marker=dict(color='lightblue', opacity=0.7),\n",
    "    yaxis='y1'\n",
    "))\n",
    "\n",
    "fig2.add_trace(go.Bar(\n",
    "    x=category_summary[category_summary['Type'] == 'Paid']['Category'],\n",
    "    y=category_summary[category_summary['Type'] == 'Paid']['Installs'],\n",
    "    name='Avg Installs (Paid)',\n",
    "    marker=dict(color='orange', opacity=0.9),\n",
    "    yaxis='y1'\n",
    "))\n",
    "\n",
    "\n",
    "fig2.add_trace(go.Scatter(\n",
    "    x=category_summary[category_summary['Type'] == 'Paid']['Category'],\n",
    "    y=category_summary[category_summary['Type'] == 'Paid']['Revenue'],\n",
    "    name='Avg Revenue (Paid)',\n",
    "    mode='lines+markers',\n",
    "    line=dict(color='red', width=3),\n",
    "    marker=dict(size=10), \n",
    "    yaxis='y2'\n",
    "))\n",
    "\n",
    "fig2.update_layout(\n",
    "    title='Avg Installs & Revenue for Free vs Paid Apps (Top 3 Categories)',\n",
    "    xaxis=dict(title='Category', categoryorder='category ascending'),\n",
    "    yaxis=dict(title='Average Installs', side='left', showgrid=True, rangemode='tozero'),\n",
    "    yaxis2=dict(\n",
    "        title='Average Revenue (Log Scale)',\n",
    "        side='right',\n",
    "        overlaying='y',\n",
    "        showgrid=True,\n",
    "        tickmode='sync',\n",
    "        rangemode='tozero',\n",
    "        type='log'\n",
    "    ),\n",
    "    barmode='group', \n",
    "    legend=dict(title='Metric', bgcolor='rgba(255, 255, 255, 0.7)'),\n",
    "    plot_bgcolor='black',\n",
    "    paper_bgcolor='black',\n",
    "    font=dict(size=14, color='white')\n",
    ")\n",
    "\n",
    "save_plot_as_html(fig2,\"Installs and Revenue Comparison 2.html\",\"The revenue generated is high in the 'Family' category apps as the most number apps are paid, whereas there are more number of installs in the 'Gaming'\")\n"
   ]
  },
  {
   "cell_type": "code",
   "execution_count": 34,
   "metadata": {},
   "outputs": [],
   "source": [
    "#figure 3 - bubble chart\n",
    "\n",
    "#filters to be applied\n",
    "\n",
    "#1.required categories\n",
    "allowed_categories = ['GAME', 'BEAUTY', 'BUSINESS', 'COMICS', 'COMMUNICATION', 'DATING', 'ENTERTAINMENT', 'SOCIAL', 'EVENTS']\n",
    "\n",
    "#2.apply filters\n",
    "bubble_chart_filtered = apps_df.merge(reviews_df[['App', 'Sentiment_Subjectivity', 'Translated_Review']], on='App')\n",
    "bubble_chart_filtered = bubble_chart_filtered[\n",
    "    (bubble_chart_filtered['Rating'] > 3.5) &\n",
    "    (bubble_chart_filtered['Category'].isin(allowed_categories)) &\n",
    "    (bubble_chart_filtered['Reviews'] > 500) &\n",
    "    (bubble_chart_filtered['Sentiment_Subjectivity'] > 0.5) &\n",
    "    (bubble_chart_filtered['Installs'] > 50000) &\n",
    "    (bubble_chart_filtered['Size'] > 15)\n",
    "]\n",
    "\n",
    "# Create bubble chart\n",
    "fig3 = px.scatter(\n",
    "    bubble_chart_filtered,\n",
    "    x='Size',\n",
    "    y='Rating',\n",
    "    size='Installs',\n",
    "    color='Category',\n",
    "    title='App Size vs. Average Rating (Bubble Size = Installs)',\n",
    "    labels={'Size': 'App Size (MB)', 'Rating': 'Average Rating'},\n",
    "    hover_name='App'\n",
    ")\n",
    "\n",
    "fig3.update_layout(\n",
    "    plot_bgcolor='black', \n",
    "    paper_bgcolor='black', \n",
    "    font=dict(size=14)\n",
    ")\n",
    "\n",
    "save_plot_as_html(fig3,\"Bubble chart 3.html\",\"Out of all the categories, Gaming apps have more number installs with a decent rating\")"
   ]
  },
  {
   "cell_type": "markdown",
   "metadata": {
    "id": "YY-uHvVAigCt"
   },
   "source": [
    "**Rendering into html file**"
   ]
  },
  {
   "cell_type": "code",
   "execution_count": 35,
   "metadata": {
    "id": "aHa8n84Ria-2"
   },
   "outputs": [],
   "source": [
    "plot_containers_split=plot_containers.split('</div>')"
   ]
  },
  {
   "cell_type": "code",
   "execution_count": 36,
   "metadata": {
    "id": "6vv-XN5Kikju"
   },
   "outputs": [],
   "source": [
    "if len(plot_containers_split) > 1:\n",
    "    final_plot=plot_containers_split[-2]+'</div>'\n",
    "else:\n",
    "    final_plot=plot_containers"
   ]
  },
  {
   "cell_type": "code",
   "execution_count": 37,
   "metadata": {
    "id": "pvvaYRzBikba"
   },
   "outputs": [],
   "source": [
    "dashboard_html= \"\"\"\n",
    "<!DOCTYPE html>\n",
    "<html lang=\"en\">\n",
    "<head>\n",
    "    <meta charset=\"UTF-8\">\n",
    "    <meta name=viewport\" content=\"width=device-width,initial-scale-1.0\">\n",
    "    <title> Google Play Store Review Analytics</title>\n",
    "    <style>\n",
    "        body {{\n",
    "            font-family: Arial, sans-serif;\n",
    "            background-color: #333;\n",
    "            color: #fff;\n",
    "            margin: 0;\n",
    "            padding: 0;\n",
    "        }}\n",
    "        .header {{\n",
    "            display: flex;\n",
    "            align-items: center;\n",
    "            justify-content: center;\n",
    "            padding: 20px;\n",
    "            background-color: #444\n",
    "        }}\n",
    "        .header img {{\n",
    "            margin: 0 10px;\n",
    "            height: 50px;\n",
    "        }}\n",
    "        .container {{\n",
    "            display: flex;\n",
    "            flex-wrap: wrap;\n",
    "            justify_content: center;\n",
    "            padding: 20px;\n",
    "        }}\n",
    "        .plot-container {{\n",
    "            border: 2px solid #555\n",
    "            margin: 10px;\n",
    "            padding: 10px;\n",
    "            width: {plot_width}px;\n",
    "            height: {plot_height}px;\n",
    "            overflow: hidden;\n",
    "            position: relative;\n",
    "            cursor: pointer;\n",
    "        }}\n",
    "        .insights {{\n",
    "            display: none;\n",
    "            position: absolute;\n",
    "            right: 10px;\n",
    "            top: 10px;\n",
    "            background-color: rgba(0,0,0,0.7);\n",
    "            padding: 5px;\n",
    "            border-radius: 5px;\n",
    "            color: #fff;\n",
    "        }}\n",
    "        .plot-container: hover .insights {{\n",
    "            display: block;\n",
    "        }}\n",
    "        </style>\n",
    "        <script>\n",
    "            function openPlot(filename) {{\n",
    "                window.open(filename, '_blank');\n",
    "                }}\n",
    "        </script>\n",
    "    </head>\n",
    "    <body>\n",
    "        <div class= \"header\">\n",
    "            <img src=\"https://upload.wikimedia.org/wikipedia/commons/thumb/4/4a/Logo_2013_Google.png/800px-Logo_2013_Google.png\" alt=\"Google Logo\">\n",
    "            <h1>Google Play Store Reviews Analytics</h1>\n",
    "            <img src=\"https://upload.wikimedia.org/wikipedia/commons/thumb/7/78/Google_Play_Store_badge_EN.svg/1024px-Google_Play_Store_badge_EN.svg.png\" alt=\"Google Play Store Logo\">\n",
    "        </div>\n",
    "        <div class=\"container\">\n",
    "            {plots}\n",
    "        </div>\n",
    "    </body>\n",
    "    </html>\n",
    "    \"\"\""
   ]
  },
  {
   "cell_type": "code",
   "execution_count": 38,
   "metadata": {
    "id": "XLETfxIdikSz"
   },
   "outputs": [],
   "source": [
    "final_html=dashboard_html.format(plots=plot_containers,plot_width=plot_width,plot_height=plot_height)"
   ]
  },
  {
   "cell_type": "code",
   "execution_count": 39,
   "metadata": {
    "id": "VkBOSv30ixII"
   },
   "outputs": [],
   "source": [
    "dashboard_path=os.path.join(html_files_path,\"web page2.html\")"
   ]
  },
  {
   "cell_type": "code",
   "execution_count": 40,
   "metadata": {
    "id": "D3cUQxhri4cw"
   },
   "outputs": [],
   "source": [
    "with open(dashboard_path, \"w\", encoding=\"utf-8\") as f:\n",
    "    f.write(final_html)"
   ]
  },
  {
   "cell_type": "code",
   "execution_count": 41,
   "metadata": {
    "id": "o4yOGfAji66E"
   },
   "outputs": [
    {
     "data": {
      "text/plain": [
       "True"
      ]
     },
     "execution_count": 41,
     "metadata": {},
     "output_type": "execute_result"
    }
   ],
   "source": [
    "webbrowser.open('file://'+os.path.realpath(dashboard_path))"
   ]
  }
 ],
 "metadata": {
  "colab": {
   "provenance": []
  },
  "kernelspec": {
   "display_name": "Python 3 (ipykernel)",
   "language": "python",
   "name": "python3"
  },
  "language_info": {
   "codemirror_mode": {
    "name": "ipython",
    "version": 3
   },
   "file_extension": ".py",
   "mimetype": "text/x-python",
   "name": "python",
   "nbconvert_exporter": "python",
   "pygments_lexer": "ipython3",
   "version": "3.9.18"
  }
 },
 "nbformat": 4,
 "nbformat_minor": 1
}
